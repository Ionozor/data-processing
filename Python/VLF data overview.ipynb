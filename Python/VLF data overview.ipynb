{
 "cells": [
  {
   "cell_type": "markdown",
   "metadata": {},
   "source": [
    "# VLF data overview\n",
    "## Vojtěch Laitl 2016\n",
    "### Ionozor Measuring Network - VLF monitors data anylysis and graph processing\n",
    "\n",
    "This is an iPython Juypter notebook made for SID monitors and their data overview. The computations are covered by a simplified ionospheric plasma physics model and based on iPython 2.X modules. The script does loads the primary data saved in the FITS format, runs the data processing tools and saves the results into the folders defined."
   ]
  },
  {
   "cell_type": "code",
   "execution_count": 1,
   "metadata": {
    "collapsed": true
   },
   "outputs": [],
   "source": [
    "import numpy as np\n",
    "import scipy\n",
    "import astropy.io \n",
    "from astropy.io import fits\n",
    "from astropy.utils.data import download_file\n",
    "import matplotlib.pyplot as plt\n",
    "from scipy.integrate import quad\n",
    "import cmath\n",
    "import scipy.interpolate as interpol\n",
    "from mpl_toolkits.mplot3d import Axes3D\n",
    "import os\n",
    "from __future__ import print_function\n",
    "from ipywidgets import interact, interactive, fixed\n",
    "import ipywidgets as widgets\n",
    "from IPython.display import display"
   ]
  },
  {
   "cell_type": "markdown",
   "metadata": {},
   "source": [
    "First of all, the essential modules are imported."
   ]
  },
  {
   "cell_type": "code",
   "execution_count": 26,
   "metadata": {
    "collapsed": false
   },
   "outputs": [
    {
     "data": {
      "text/plain": [
       "<function __main__.f>"
      ]
     },
     "execution_count": 26,
     "metadata": {},
     "output_type": "execute_result"
    }
   ],
   "source": [
    "output_slider_variable = widgets.Text()\n",
    "def f(url):\n",
    "    output_slider_variable.value = str(url)\n",
    "\n",
    "interact(f,url='text')"
   ]
  },
  {
   "cell_type": "markdown",
   "metadata": {},
   "source": [
    "Next, we define the source URL. For the SID data, you ought to use some of our observatories accessible at the website of http://space.astro.cz/ionozor/VLF/. Then, the only thing you need to set the requested URL is to run the cell above and type it into the `url` box appeared, so that you replace the `text` by the appropriate URL string."
   ]
  },
  {
   "cell_type": "code",
   "execution_count": 25,
   "metadata": {
    "collapsed": false
   },
   "outputs": [
    {
     "name": "stdout",
     "output_type": "stream",
     "text": [
      "Downloading http://space.astro.cz/ionozor/VLF/OBSUPICE/OBSUPICE_VLF_R2/snapshots/2016/10/07/02/20161007021927023_OBSUPICE_VLF_R2_snap.fits [Done]\n",
      "Filename: C:\\Users\\Vojta\\.astropy\\cache\\download\\8dad37ed1bce4d7608aa3c6e2ccf8511\n",
      "No.    Name         Type      Cards   Dimensions   Format\n",
      "0    PRIMARY     PrimaryHDU       6   ()              \n",
      "1                CompImageHDU     24   (4438, 704)   float32   \n"
     ]
    },
    {
     "name": "stderr",
     "output_type": "stream",
     "text": [
      "C:\\Users\\Vojta\\Anaconda3\\lib\\site-packages\\astropy\\io\\fits\\util.py:577: UserWarning: Could not find appropriate MS Visual C Runtime library or library is corrupt/misconfigured; cannot determine whether your file object was opened in append mode.  Please consider using a file object opened in write mode instead.\n",
      "  'Could not find appropriate MS Visual C Runtime '\n"
     ]
    },
    {
     "data": {
      "text/plain": [
       "<bound method HDUList.close of [<astropy.io.fits.hdu.image.PrimaryHDU object at 0x0000000008077CC0>, <astropy.io.fits.hdu.compressed.CompImageHDU object at 0x000000000807D9B0>]>"
      ]
     },
     "execution_count": 25,
     "metadata": {},
     "output_type": "execute_result"
    }
   ],
   "source": [
    "data_file = download_file(output_slider_variable.value, cache=True )\n",
    "data_list = fits.open(data_file)\n",
    "data_list.info()\n",
    "data = data_list[0].data\n",
    "data_list.close"
   ]
  },
  {
   "cell_type": "markdown",
   "metadata": {},
   "source": [
    "Above, the data have been downloaded and saved into an appropriate numpy 2D array object. If successful, you will be informed that the HDUlist of the `FITS` file characterised by the number, name type, cards, dimensions and format has been closed."
   ]
  },
  {
   "cell_type": "code",
   "execution_count": null,
   "metadata": {
    "collapsed": true
   },
   "outputs": [],
   "source": [
    "epsilon = 8.8542e-12\n",
    "e = 1.602e-19\n",
    "k_B = 1.38e-23\n",
    "gamma = 0.001\n",
    "R_inf = 3.2899e15\n",
    "c = 3e8\n",
    "b = 2.898e-3\n",
    "h = 6.626e-34\n",
    "m_el = 9.109e-31\n",
    "R = 8.314\n",
    "N_A = 6.022e23\n",
    "lambda_De = 3.10399215e-05\n",
    "I0 = -26.74\n",
    "R = 1.496e11\n",
    "i = scipy.sqrt(-1)\n",
    "nu = 18000+(16+2/3)*np.arange(0,len(data))\n",
    "t = np.arange(0,len(data[0]))*300/len(data[0])"
   ]
  },
  {
   "cell_type": "markdown",
   "metadata": {},
   "source": [
    "Here, all of the constants needed for the computation are defined and the time and frequency shapes are set from the axes given."
   ]
  },
  {
   "cell_type": "code",
   "execution_count": null,
   "metadata": {
    "collapsed": true
   },
   "outputs": [],
   "source": [
    "os.mkdir('ionosphere')\n",
    "os.mkdir('meteors')\n",
    "os.mkdir('sun')\n",
    "os.mkdir('molecules')"
   ]
  },
  {
   "cell_type": "markdown",
   "metadata": {},
   "source": [
    "For the oncoming saving of our results, we have created the appropriate subfolders, `ionosphere`, `meteors`, `sun` and `molecules` are created using the os module. If you ever run the whole script and get a FileExistsError near this command, it means you must have used the tool before, so that the subfolders cannot be re-created. Then, you have to copy the previous data and delete the original subfolders."
   ]
  },
  {
   "cell_type": "code",
   "execution_count": null,
   "metadata": {
    "collapsed": true
   },
   "outputs": [],
   "source": [
    "L = -data*1000\n",
    "n0 = -1/4*L**-4\n",
    "n0[np.isinf(n0)]=0\n",
    "E_k = -36*np.pi**-2*epsilon**-4/3*n0*e**4\n",
    "T = -E_k/k_B\n",
    "d_lambda_De = np.sqrt(np.abs((epsilon*k_B*T)/(n0*e**2)))\n",
    "p = np.diff(E_k,0)\n",
    "nu_delta = p*c/h\n",
    "omega = (nu+nu_delta.reshape((len(nu_delta[0]),len(nu)))).reshape((len(nu_delta),len(nu_delta[0])))\n",
    "n = (omega**2*m_el*epsilon)/e**2\n",
    "T_el = np.abs(T*n)\n",
    "T_el = T_el+190.05\n",
    "T_el[T_el>=10**4]=0\n",
    "n[n>9.99999*10**8]=0\n",
    "n = (n.reshape((len(nu_delta[0]),len(nu)))+(nu**2*m_el*epsilon)/e**2).reshape((len(nu_delta),len(nu_delta[0])))\n",
    "dn = np.diff(n,0)\n",
    "N_D = 4/3*np.pi*lambda_De*n\n",
    "N = (n.reshape((len(nu_delta[0]),len(nu)))-(nu**2*m_el*epsilon)/e**2).reshape((len(nu_delta),len(nu_delta[0])))\n",
    "Bl = 1+(0.01*L)\n",
    "mD = 10e-10\n",
    "h0 = np.pi*Bl/(2+2*mD)\n",
    "h0_t = (10*h0)**2/10\n",
    "f_n = dn*Bl/(N*(1-mD))\n",
    "f_n2 = f_n**2\n",
    "f_ln = np.log(1/2*f_n-((f_n2**2 - 4)**1/2))\n",
    "h_t = np.abs((Bl*f_ln + 2*np.pi*i)/(1-mD))\n",
    "H = np.nan_to_num(10*(h0_t + h_t)/3)\n",
    "H[H<59.999]=0\n",
    "Is = np.exp(L/10)\n",
    "fce = Is*R**2/I0\n",
    "alpha = scipy.arccos(fce)\n",
    "s = H*np.tan(np.abs(alpha))\n",
    "W_k = (3/2*k_B*T_el)/e\n",
    "p_el = np.diff(W_k,0)\n",
    "W_p = (2*W_k)/(9*N_D**2/3)\n",
    "v = (3*k_B*T_el/(n*m_el))**1/2*lambda_De\n",
    "ac = np.diff(v,0)\n",
    "s_e = (2*k_B*T_el**3/(n*m_el))**1/2*lambda_De**3\n",
    "A0 = ((dn+n)/n)/(1000*N_A)\n",
    "B0 = R*T\n",
    "E_a = np.abs(-np.log(A0**B0))/e + h*1.21567e-7/e\n",
    "E_a[np.isinf(E_a)]=0\n",
    "U_i = E_a*e\n",
    "i_1 = np.nan_to_num((2.4e21*T_el**3/2*np.exp((-U_i*lambda_De)/(3*k_B*T_el)))/(N_A*n))+n/N_A\n",
    "i_2 = np.nan_to_num(((2.4*10e21*T_el**3/2*np.exp((-U_i*lambda_De)/(n*N_D**3*k_B*T_el))**3/4)**0.8584)/(N_A*n))\n",
    "i_avrg = (i_1+i_2)/2\n",
    "p = h0*(mD-1)\n",
    "p1 = H*(1-mD) + np.pi\n",
    "n_el = 10*(np.exp((2*N_D/1000*(p1-p) + Bl)/Bl) + 4*H)\n",
    "n_el1 = n_el/10e6\n",
    "T_e = 3**2/3*e**2*n_el**1/3*N_D**2/3/(epsilon*k_B*(4*np.pi)**2/3)*lambda_De**1.2\n",
    "n_e = 10*(np.exp((2*N_D/1000000*(p1-p) + Bl)/Bl) + 4*H)\n",
    "n_e1 = n_e/10e6\n",
    "T_EL = 3**2/3*e**2*n_e**1/3*N_D**2/3/(epsilon*k_B*(4*np.pi)**2/3)*lambda_De**1.2\n",
    "lambda_M = (h*c*lambda_De**(N_D/100))/(k_B*T_e)\n",
    "lambda_M[np.isinf(lambda_M)]=0\n",
    "lambda_M = np.nan_to_num(lambda_M)\n",
    "lambda_S = (h*c*lambda_De**(N_D/100))/(k_B*T_EL)\n",
    "lambda_S[lambda_S<10e-18]=0\n",
    "lambda_S[lambda_S>10e5]=0\n",
    "f_nh = (-2*H*(mD-1) + h0_t*(-mD) + h0_t + np.pi)/(1+(0.01*L))\n",
    "f_exp = np.exp(f_nh)\n",
    "f_T = (-2**4/3*(mD-1)*N*(1-mD)*np.log10(np.e)*f_exp)/(3*(1+(0.01*L))**2*N*(1-mD)*f_exp)\n",
    "f_T[np.isnan(f_T)]=1\n",
    "dT = 3**2/3*e**2*N_D**2/3/(epsilon*k_B*(4*np.pi)**2/3)*lambda_De**6/5*f_T\n",
    "dT[np.isinf(dT)]=0\n",
    "dTe = np.diff(T_e,0)\n",
    "Z = -1/dTe*dT\n",
    "Z[np.isinf(Z)]=0\n",
    "Z = np.nan_to_num(Z)\n",
    "f1 = n_el*E_a*e/Z\n",
    "f1[np.isinf(f1)]=0\n",
    "f1 = np.nan_to_num(f1)\n",
    "f2 = k_B*T_e\n",
    "f2[np.isinf(f2)]=0\n",
    "f2 = np.nan_to_num(f2)\n",
    "f_I = f1*f2*np.exp(-T_el/T_e)\n",
    "f_I[np.isinf(f_I)]=0\n",
    "f_I = np.nan_to_num(f_I)\n",
    "I = np.abs(scipy.log(f_I))\n",
    "I[np.isinf(I)]=0\n",
    "I = np.nan_to_num(I)\n",
    "dTS = 10*np.abs(np.log(b/lambda_S))\n",
    "dTS[np.isinf(dTS)]=0\n",
    "TS = np.exp(dTS/10)\n",
    "nS = (16*epsilon**3*k_B**3*np.pi**2*lambda_De**1.5*TS)/(9*e**6*N_D**2)\n",
    "dTS = np.diff(TS,0)\n",
    "dTS[np.isinf(dTS)]=0\n",
    "Z = -1/dTS*dT\n",
    "f1 = n_el*E_a*e/Z\n",
    "f1[np.isinf(f1)]=0\n",
    "f1 = np.nan_to_num(f1)\n",
    "f2 = k_B*TS\n",
    "f2[np.isinf(f2)]=0\n",
    "f2 = np.nan_to_num(f2)\n",
    "f_I = f1*f2*np.exp(-T_el/TS)\n",
    "IS = np.abs(scipy.log(f_I))\n",
    "IS[np.isinf(IS)]=0\n",
    "IS = np.nan_to_num(IS)\n",
    "T = 10*np.abs(np.log(b/lambda_M))\n",
    "T[np.isinf(T)]=0\n",
    "T = np.nan_to_num(T)\n",
    "dTe1 = np.diff(T,0)\n",
    "lambda_m = b/T\n",
    "lambda_m[np.isinf(lambda_m)]=0\n",
    "dT = np.abs(10*(np.log(T)))\n",
    "N = (16*epsilon**3*k_B**3*np.pi**2*lambda_De**1.5*np.exp(dT/(0.1*N_D)))/(9*e**6*N_D**2)\n",
    "N[np.isinf(N)]=0\n",
    "N = np.nan_to_num(N)\n",
    "lambdas = b/TS\n",
    "E = E_a + h*nu_delta/e\n",
    "s_O2 = (2*9.339e012-9.312e007)/10e12\n",
    "s_N2 = (2*3.4711e+012-9.312e+007)/10e12\n",
    "s_N2O = (3*4.0732e012 - 9.312e+007)/10e12\n",
    "s_NO = (2*6.1824e+012 - 9.312e+007)/10e12\n",
    "s_CO2 = (2*6.9482e012 - 9.312e007)/10e12\n",
    "s_OH = (9.7e012-9.312e007)/10e12\n",
    "lambdap = (h*c)/(E_a*e*lambda_De**3/n*N_D)*10e4\n",
    "lambdap[np.isinf(lambdap)]=0\n",
    "sl_O2 = np.abs(lambdap-s_O2)\n",
    "sl_N2 = np.abs(lambdap-s_N2)\n",
    "sl_N2O = np.abs(lambdap-s_N2O)\n",
    "sl_NO = np.abs(lambdap-s_NO)\n",
    "sl_CO2 = np.abs(lambdap-s_CO2)\n",
    "sl_OH = np.abs(lambdap-s_OH)\n",
    "E_O2 = h*c/(sl_O2)/e*n**(3.5*N_D/100)\n",
    "E_N2 = h*c/(sl_N2)/e*n**(3.5*N_D/100)\n",
    "E_N2O = h*c/(sl_N2O)/e*n**(3.5*N_D/100)\n",
    "E_NO = h*c/(sl_NO)/e*n**(3.5*N_D/100)\n",
    "E_CO2 = h*c/(sl_CO2)/e*n**(3.5*N_D/100)\n",
    "E_OH = h*c/(sl_OH)/e*n**(3.5*N_D/100)\n",
    "C_e = gamma*n*T_el\n",
    "Q = C_e*m_el*T/e\n",
    "dQ = np.diff(Q,0)\n",
    "S = dQ/T_el\n",
    "tau = np.nan_to_num((np.insert(np.diff(t),0,0)+t)/t)\n",
    "F = E_a*e/(tau*n)\n",
    "F_V = F/(lambda_De*e)\n",
    "E_N = E_N2/E\n",
    "N_N = E_N2/E_N\n",
    "E_O = E_O2/E\n",
    "N_O = E_O2/E_O\n",
    "e_N2O = E_N2O/E\n",
    "N_N2O = E_N2O/e_N2O\n",
    "e_NO = E_NO/E\n",
    "N_NO = E_NO/e_NO\n",
    "e_CO2 = E_CO2/E\n",
    "N_CO2 = E_CO2/e_CO2\n",
    "N_ne = N_O+N_N+N_N2O+N_NO+N_CO2\n",
    "lambda_N = h*c/(E_N*e)\n",
    "lambda_O = h*c/(E_O*e)\n",
    "lambda_OH = h*c/(E_OH*e)\n",
    "ds = np.diff(1000*s,0)\n",
    "dN = np.diff(N,0)\n",
    "n_H = np.nan_to_num((10**12*dn)**(1/3))\n",
    "N_H = (10**12*(-dN))**1/3\n",
    "r_min = 10*ds/n_H\n",
    "r_min[np.isinf(r_min)]=0\n",
    "r_min = np.nan_to_num(r_min)\n",
    "r_max = (1/len(s)*(np.nan_to_num(2/3*r_min**2+1/3*(N_H/ds)**2))**(1/2))/10**2\n",
    "r_max[r_max>9.999999e07]=0\n",
    "r_max = np.nan_to_num(r_max)\n",
    "r_H = 1000*(len(s)**2*ds**2*n_H+10**4*len(s)*ds**2-len(s)*n_H**2-2*10**8*n_H)/(len(s)**2*(ds*n_H**2-ds*n_H*N_H))\n",
    "r_H[np.isinf(r_H)]=0\n",
    "r_H = np.nan_to_num(r_H)\n",
    "n_mean = np.mean(n,axis=1)\n",
    "T_mean = np.mean(T_el,axis=1)\n",
    "H_mean = np.mean(H,axis=1)*3\n",
    "s_mean = np.mean(s,axis=1)*3\n",
    "data_mean = np.mean(data,axis=1)\n",
    "L_mean = np.mean(L,axis=1)\n",
    "f = interpol.interp1d(nu,H_mean,kind='quadratic')\n",
    "F = f(nu)\n",
    "g = interpol.interp2d(nu,data_mean,L_mean)\n",
    "G = g(nu,data_mean)"
   ]
  },
  {
   "cell_type": "markdown",
   "metadata": {},
   "source": [
    "By the time all of the essential parameters and functions are set, the data processing tools itself can be run. It covers the basic ionospheric plasma physics and plasma chemistry equations involved by a simplified ionospheric model, which covers both ionospheric plasma parameters and the phenomenon of ionospheric response. Such a combination allows us to reach exact results wihtin the indirect detection of a solar or meteoric impact."
   ]
  },
  {
   "cell_type": "code",
   "execution_count": null,
   "metadata": {
    "collapsed": true
   },
   "outputs": [],
   "source": [
    "fig1 = plt.figure()\n",
    "plt.imshow(data)\n",
    "plt.colorbar()\n",
    "plt.title('Spectrograph')\n",
    "plt.xlabel('Time index')\n",
    "plt.ylabel('Frequency index')\n",
    "fig1.savefig('spectrograph.png')\n",
    "fig2 = plt.figure()\n",
    "ax = fig2.add_subplot(111, projection='3d')\n",
    "ax.plot_surface(nu,data_mean,G)\n",
    "ax.set_xlabel('Frequency (Hz)')\n",
    "ax.set_ylabel('L (dB)')\n",
    "ax.set_zlabel('dn/dL (1/m3)')\n",
    "ax.set_title('Plasma discharges')\n",
    "fig2.savefig('plasma_discharges.png')\n",
    "fig3 = plt.figure()\n",
    "plt.plot(nu,H_mean,'go'),plt.plot(nu,F)\n",
    "plt.xlabel('Frequency (Hz)')\n",
    "plt.ylabel('Height (km)')\n",
    "plt.title('Ionogram')\n",
    "fig3.savefig('ionogram.png')\n",
    "fig4 = plt.figure()\n",
    "plt.plot(n_mean,T_mean,'go')\n",
    "plt.xlabel('Electron density (1/m3)')\n",
    "plt.ylabel('Temperature (K)')\n",
    "plt.title('Charged particles')\n",
    "fig4.savefig('charged_particles.png')\n",
    "fig5 = plt.figure()\n",
    "plt.plot(H_mean,s_mean,'go')\n",
    "plt.xlabel('Vertical drift (km)')\n",
    "plt.ylabel('Horizontal drift (km)')\n",
    "plt.title('Ionospheric drift')\n",
    "fig5.savefig('ionospheric_drift.png') \t\n",
    "plt.close()"
   ]
  },
  {
   "cell_type": "markdown",
   "metadata": {},
   "source": [
    "After the data are processed, some example graphs are drawn and saved into your working directory. Having a look at them, one can make a brief description of the ionospheric behaviour during the investigated time period.\n",
    "As the final result, the figures drawn are shown using matplotlib.\n",
    "#### Spectrograph\n",
    "    The spectrograph plot shows the measured data themselves. The radio signal intensity level is shown within a 2-D char where the x-axis shows the time index and the y-axis the frequency index of the relative intensity of radio waves monitored.\n",
    "#### Plasma discharges\n",
    "    Plasma discharges plot covers the inital step of the mathematical model. The frequency set and the relative intensity measured are compared with each other and interlanded with the basic equation of the plasma physics model \n",
    "\\begin{equation}\n",
    "\\frac{\\partial{n}}{\\partial{L}} \\approx - \\frac{1}{4}L^{-4}\n",
    "\\end{equation}\n",
    "#### Ionogram\n",
    "    The next graph is the standard ionogram, a digram which shows the relation between the frequency (electron plasma frequency and thus mean electron density, respectively) and the height where the ionospheric plasma is being located. The ionogram involves both measured daa ad interpolaton.\n",
    "#### Charged particles\n",
    "    As the result of plasma paramters modelling, a simple diagram showing the electron density and plasma temperature is given.\n",
    "#### Ionospheric drift\n",
    "    The last step of this data processing tool is the diagram which shows the ionospheric plasma distribution involving both vertical distribution and horizontal distribution; they both are able to be reached within the ionogram."
   ]
  },
  {
   "cell_type": "code",
   "execution_count": null,
   "metadata": {
    "collapsed": true
   },
   "outputs": [],
   "source": [
    "np.savetxt('time.txt',t)\n",
    "np.savetxt('frequency.txt',nu)"
   ]
  },
  {
   "cell_type": "markdown",
   "metadata": {},
   "source": [
    "The time and frequency dimensions are saved into `-ascii` data files, so that the resultant data can be scaled anytime if necessary."
   ]
  },
  {
   "cell_type": "code",
   "execution_count": null,
   "metadata": {
    "collapsed": true
   },
   "outputs": [],
   "source": [
    "owd = os.getcwd()\n",
    "os.chdir('ionosphere')\n",
    "np.savetxt('plasma_frequency.txt',omega)\n",
    "np.savetxt('electron_density.txt',n)\n",
    "np.savetxt('termodynamic_temperature.txt',T_el)\n",
    "np.savetxt('plasma_parameter.txt',N_D)\n",
    "np.savetxt('kinetic_energy.txt',W_k)\n",
    "np.savetxt('potential_energy.txt',W_p)\n",
    "np.savetxt('height.txt',H)\n",
    "np.savetxt('horizontal_drift.txt',s)\n",
    "np.savetxt('mean_velocity.txt',v)\n",
    "np.savetxt('fluctuation_scope.txt',s_e)\n",
    "np.savetxt('refraction_angle.txt',alpha)\n",
    "np.savetxt('heat.txt',Q)\n",
    "np.savetxt('calorific_capacity.txt',C_e)\n",
    "np.savetxt('entropy.txt',S)\n",
    "np.savetxt('x_ray_flux.txt',F)\n",
    "np.savetxt('x_ray_flux_debye.txt',F_V)\n",
    "os.chdir(owd)\n",
    "os.chdir('meteors')\n",
    "np.savetxt('electron_density.txt',N)\n",
    "np.savetxt('termodynamic_temperature.txt',T)\n",
    "np.savetxt('wavelength.txt',lambda_m)\n",
    "np.savetxt('intensity.txt',I)\n",
    "np.savetxt('inner_radius.txt',r_min)\n",
    "np.savetxt('outer_radius.txt',r_max)\n",
    "np.savetxt('descent_height.txt',r_H)\n",
    "os.chdir(owd)\n",
    "os.chdir('sun')\n",
    "np.savetxt('electron_density.txt',nS)\n",
    "np.savetxt('termodynamic_temperature.txt',TS)\n",
    "np.savetxt('wavelength.txt',lambda_S)\n",
    "np.savetxt('intensity.txt',IS)\n",
    "os.chdir(owd)\n",
    "os.chdir('molecules')\n",
    "np.savetxt('ionization_potential.txt',U_i)\n",
    "np.savetxt('energy_O2.txt',E_O2)\n",
    "np.savetxt('energy_O.txt',E_O)\n",
    "np.savetxt('energy_N2.txt',E_N2)\n",
    "np.savetxt('energy_N2O.txt',E_N2O)\n",
    "np.savetxt('energy_NO.txt',E_NO)\n",
    "np.savetxt('energy_CO2.txt',E_CO2)\n",
    "np.savetxt('energy_OH.txt',E_OH)\n",
    "np.savetxt('energy_N.txt',E_N)\n",
    "np.savetxt('energy_O.txt',E_O)\n",
    "np.savetxt('wavelength_OH.txt',lambda_OH)\n",
    "np.savetxt('wavelength_O.txt',lambda_O)\n",
    "np.savetxt('wavelength_N.txt',lambda_N)\n",
    "np.savetxt('intensity.txt',I)\n",
    "os.chdir(owd)"
   ]
  },
  {
   "cell_type": "markdown",
   "metadata": {},
   "source": [
    "Finally, using the `-ascii` format, the resultant data are saved and separated into the prepared subfolders.\n",
    "Having run the data processing, we reached some informations about the ionospheric plasma in the D layer, picking up the basic physical parameters of the cold plasma and ionogram characteristics, which both are stored in the `ionosphere` subfolder. Moreover, we have had a look at the behaviour of the cold molecular and ion clouds located in the ionosphere, paying extra attention to the spectral diagnostics. For such results, see the `molecules` subfolder.\n",
    "Combining the physical model, the calculated paramters of the radio waves reflection phenomena and with the aspects of particle behaviour known, we have implemented the equations used for defining the ionospheric response and reached some of the basic informations about solar and meteoric impacts. Generally, we calculate the spectral parameters and also the electron density and plasma temperature of the impact falling into the ionosphere, see `meteors` and `sun` subfolders. Moreover, within the observation of meteors, we have even reached the description of the electron density distribution in 3D normalized metrical space, see the appropriate resultant data."
   ]
  }
 ],
 "metadata": {
  "kernelspec": {
   "display_name": "Python 3",
   "language": "python",
   "name": "python3"
  },
  "language_info": {
   "codemirror_mode": {
    "name": "ipython",
    "version": 3
   },
   "file_extension": ".py",
   "mimetype": "text/x-python",
   "name": "python",
   "nbconvert_exporter": "python",
   "pygments_lexer": "ipython3",
   "version": "3.5.2"
  },
  "widgets": {
   "state": {
    "66f5e623703f47d988d19296f8dbac44": {
     "views": [
      {
       "cell_index": 3
      }
     ]
    }
   },
   "version": "1.2.0"
  }
 },
 "nbformat": 4,
 "nbformat_minor": 0
}
