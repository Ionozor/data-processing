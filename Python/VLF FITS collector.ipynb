{
 "cells": [
  {
   "cell_type": "markdown",
   "metadata": {},
   "source": [
    "# Ionozor FITS collector\n",
    "## VLF data processing\n",
    "### Jakub Janoušek 2016, edited by Vojtěch Laitl"
   ]
  },
  {
   "cell_type": "markdown",
   "metadata": {},
   "source": [
    "This is an iPython Jupyter notebook based on Python kernel and a new library written for collecting the FITS data measured by the VLF monitor."
   ]
  },
  {
   "cell_type": "code",
   "execution_count": null,
   "metadata": {
    "collapsed": true
   },
   "outputs": [],
   "source": [
    "import bzpost\n",
    "import datetime, requests, os, glob\n",
    "import numpy as np\n",
    "import matplotlib.pylab as plt\n",
    "from astropy.io import fits"
   ]
  },
  {
   "cell_type": "markdown",
   "metadata": {},
   "source": [
    "The appropriate libraries are loaded."
   ]
  },
  {
   "cell_type": "code",
   "execution_count": null,
   "metadata": {
    "collapsed": true
   },
   "outputs": [],
   "source": [
    "sourceUrl = 'http://space.astro.cz/ionozor/VLF/OBSUPICE/OBSUPICE_VLF_R2/'\n",
    "\n",
    "year_start = np.asarray(time.strftime(\"%Y\"))\n",
    "year_end = year_start\n",
    "month_start = np.asarray(str(time.strftime(\"%m\")).zfill(2))\n",
    "month_end = month_start\n",
    "day_start = np.asarray(str(time.strftime(\"%d\")).zfill(2))\n",
    "day_end = day_start\n",
    "hour_start = np.asarray(str(np.asarray(str(time.strftime(\"%H\")),dtype='int')-1).zfill(2))\n",
    "hour_end = hour_start\n",
    "minute_start = np.asarray(str(1).zfill(2))\n",
    "minute_end = np.asarray(str(59).zfill(2))"
   ]
  },
  {
   "cell_type": "markdown",
   "metadata": {},
   "source": [
    "The initial parameters for the computation (within the OBSUPICE-R2) covered by the source URL and time parameters are given."
   ]
  },
  {
   "cell_type": "code",
   "execution_count": null,
   "metadata": {
    "collapsed": true
   },
   "outputs": [],
   "source": [
    "def download_file(url):\n",
    "    local_filename = url.split('/')[-1]\n",
    "    # note the stream=True parameter\n",
    "    r = requests.get(url, stream=True)\n",
    "    with open(local_filename, 'wb') as f:\n",
    "        for chunk in r.iter_content(chunk_size=1024): \n",
    "            if chunk: # filter out keep-alive new chunks\n",
    "                f.write(chunk)\n",
    "                f.flush()\n",
    "    return local_filename\n",
    "\n",
    "def download_fits(dir, year_start, month_start, day_start, hour_start, minute_start, year_end, month_end, day_end, hour_end, minute_end):\n",
    "    '''\n",
    "    Creates subdirectory 'snapshots' and downloads set of fits images from http://space.astro.cz/bolidozor/ from time period given in arguments. Returns nothing.\n",
    "    >>>import getboli\n",
    "    >>>getboli.download_fits('snapshots',2015,8,8,4,1,2015,8,9,6,1)\n",
    "    >>>\n",
    "    '''\n",
    "    collector = []\n",
    "    wd = os.getcwd()\n",
    "    if not os.path.exists(dir):\n",
    "        os.makedirs(dir)\n",
    "    os.chdir(dir)\n",
    "    con = bzpost.HTTPConnector(sourceUrl)\n",
    "    con.connect()\n",
    "\n",
    "    for snapshot in con.get_snapshots(datetime.datetime(year_start, month_start, day_start, hour_start, minute_start), datetime.datetime(year_end, month_end, day_end, hour_end, minute_end)):\n",
    "       collector.append(snapshot.url) \n",
    "\n",
    "    for url in collector:\n",
    "        download_file(url)\n",
    "\n",
    "    con.close()\n",
    "    os.chdir(wd)\n",
    "\n",
    "def mkmosaic(dir, output='out.fits', axis='y', part=1, showplot=True):\n",
    "    '''\n",
    "    Concaternate specified parts of images from directory along the geometric axis. Plots the output by default. Having something else than fits files in target directory will likely result in error.\n",
    "    :dir: The directory in which fits images are situated.\n",
    "    :output: The filename of the output concaternated image.\n",
    "    :axis: The axis in cartesian coordinate system along which the pictures are added.\n",
    "    :part: What part of the fits images should be added. Default fits images have header on 0 and image part on 1. Raw files have each channel on 0, 1, 2 without a header.\n",
    "    :showplot: If set to True the output is drawn using matplotlib.\n",
    "    :return: Nothing.\n",
    "    >>>import getboli\n",
    "    >>>getboli.mkmosaic('snapshots', 'out.fits', axis='x', part='0')\n",
    "    >>>\n",
    "    TODO: .*\\.fits regex\n",
    "    '''\n",
    "    for image in os.listdir(dir):\n",
    "        hdulist = fits.open(os.path.join(dir, image))\n",
    "        if 'a' in locals():\n",
    "            if axis == 'x':\n",
    "                a = np.append(a, hdulist[part].data, axis=1)\n",
    "            if axis == 'y':\n",
    "                a = np.append(a, hdulist[part].data, axis=0)\n",
    "            if axis == 'z':\n",
    "                a = np.add(a, hdulist[part].data)\n",
    "        else:\n",
    "            a = hdulist[part].data #matrix representing the image part\n",
    "        hdulist.close()\n",
    "    hdu = fits.PrimaryHDU(a)\n",
    "    hdu.writeto(output)\n",
    "    if showplot:\n",
    "        plt.imshow(a)\n",
    "        plt.show()\n",
    "    del a #when axis were switched the variable caused skip of the else condition\n",
    "\n",
    "def split_single(image):\n",
    "    \"\"\"Split three channels raw file converted into fits format into respective files containing one channel. Color is appednde into filename.\n",
    "    :image: Imput image.\n",
    "    :returns: Nothing.\n",
    "    \"\"\"\n",
    "    filename = image.split('.')[0]\n",
    "    hdulist = fits.open(image)\n",
    "    all_channels = hdulist[0].data\n",
    "    r = all_channels[0]\n",
    "    g = all_channels[1]\n",
    "    b = all_channels[2]\n",
    "    for i in ['r','g','b']:\n",
    "        hdu = fits.PrimaryHDU(eval(i))\n",
    "        hdu.writeto(filename + '_' + i + '.fits')\n",
    "    \n",
    "def split_dir(dir):\n",
    "    \"\"\"Iterate through fits images with multiple color channels and split their parts into fits with only one color channel and append that color to generated filename.\n",
    "    :dir: The directory in which three channel fits are present.\n",
    "    :returns: Nothing.\n",
    "    \"\"\"\n",
    "    wd = os.getcwd()\n",
    "    os.chdir(dir)\n",
    "    fits_files = glob.glob('*.fits')\n",
    "    for image in fits_files:\n",
    "        #imagepath = os.path.join(dir, image)\n",
    "        try:\n",
    "            split_single(image)\n",
    "        except:\n",
    "            os.chdir(wd)\n",
    "    os.chdir(wd)\n",
    "\n",
    "# apparently not needed, glob.glob\n",
    "def regex_dir(dir):\n",
    "    \"\"\"Return list of files ending with '.fits' from specified directory. \"\"\"\n",
    "    dir_content = os.listdir(dir)\n",
    "    collector = []\n",
    "    for file in dir_content:\n",
    "        try:\n",
    "            match = re.match('.*fits', file).group() \n",
    "            collector = collector.append(match)\n",
    "        except:\n",
    "            pass\n",
    "    return collector"
   ]
  },
  {
   "cell_type": "markdown",
   "metadata": {},
   "source": [
    "The algorithm process itself is defined. As the input parameters, the measurement given in several files is downloaded and converted, as output files, onto a bigger file covering the measurement from the whole hour."
   ]
  }
 ],
 "metadata": {
  "kernelspec": {
   "display_name": "Python 3",
   "language": "python",
   "name": "python3"
  },
  "language_info": {
   "codemirror_mode": {
    "name": "ipython",
    "version": 3
   },
   "file_extension": ".py",
   "mimetype": "text/x-python",
   "name": "python",
   "nbconvert_exporter": "python",
   "pygments_lexer": "ipython3",
   "version": "3.5.1"
  }
 },
 "nbformat": 4,
 "nbformat_minor": 0
}
