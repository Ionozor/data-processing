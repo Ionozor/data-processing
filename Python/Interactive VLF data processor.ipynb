{
 "cells": [
  {
   "cell_type": "markdown",
   "metadata": {},
   "source": [
    "# VLF data processor\n",
    "## Vojtěch Laitl 2016\n",
    "### Ionozor Measuring Network - VLF monitors data anylysis and graph processing\n",
    "\n",
    "This is an Juypter notebook made for SID monitors and interactive viewing of the processed VLF data. The computations are covered by a simplified ionospheric plasma physics model and based on Python modules. The script does not save any pictures, nor data given. The supporting files are deleted when the calculations and plotting are finished, so the notebook works only with the primary data measured."
   ]
  },
  {
   "cell_type": "markdown",
   "metadata": {},
   "source": [
    "# Prerequisities\n",
    "\n",
    "    sudo apt-get install python3-matplotlib python3-numpy python3-scipy python3-astropy\n"
   ]
  },
  {
   "cell_type": "code",
   "execution_count": 5,
   "metadata": {},
   "outputs": [],
   "source": [
    "import bzpost\n",
    "import datetime, requests, os, glob\n",
    "import time\n",
    "import numpy as np\n",
    "import scipy\n",
    "import astropy.io \n",
    "import matplotlib.pyplot as plt\n",
    "from astropy.io import fits\n",
    "from astropy.utils.data import download_file\n",
    "import matplotlib.pyplot as plt\n",
    "from scipy.integrate import quad\n",
    "import cmath\n",
    "import scipy.interpolate as interpol\n",
    "from mpl_toolkits.mplot3d import Axes3D\n",
    "import os\n",
    "from __future__ import print_function\n",
    "from ipywidgets import interact, interactive, fixed\n",
    "import ipywidgets as widgets\n",
    "from IPython.display import display"
   ]
  },
  {
   "cell_type": "markdown",
   "metadata": {},
   "source": [
    "First of all, the libraries needed for the script are defined and imported. The notebook works with the bzpost module (https://github.com/bolidozor/python-bolidozor-postprocessing/tree/master) installed."
   ]
  },
  {
   "cell_type": "code",
   "execution_count": 21,
   "metadata": {},
   "outputs": [
    {
     "data": {
      "application/vnd.jupyter.widget-view+json": {
       "model_id": "e3eeda0fcbd942e3aa0a71e39d7b4e57",
       "version_major": 2,
       "version_minor": 0
      },
      "text/html": [
       "<p>Failed to display Jupyter Widget of type <code>interactive</code>.</p>\n",
       "<p>\n",
       "  If you're reading this message in the Jupyter Notebook or JupyterLab Notebook, it may mean\n",
       "  that the widgets JavaScript is still loading. If this message persists, it\n",
       "  likely means that the widgets JavaScript library is either not installed or\n",
       "  not enabled. See the <a href=\"https://ipywidgets.readthedocs.io/en/stable/user_install.html\">Jupyter\n",
       "  Widgets Documentation</a> for setup instructions.\n",
       "</p>\n",
       "<p>\n",
       "  If you're reading this message in another frontend (for example, a static\n",
       "  rendering on GitHub or <a href=\"https://nbviewer.jupyter.org/\">NBViewer</a>),\n",
       "  it may mean that your frontend doesn't currently support widgets.\n",
       "</p>\n"
      ],
      "text/plain": [
       "interactive(children=(Dropdown(description='station', options=('svakov/R2', 'OBSUPICE/R2'), value='svakov/R2'), Output()), _dom_classes=('widget-interact',))"
      ]
     },
     "metadata": {},
     "output_type": "display_data"
    }
   ],
   "source": [
    "output_slider_variable = widgets.Text(\n",
    "    value='Hello World',\n",
    "    placeholder='Type something',\n",
    "    description='String:',\n",
    "    disabled=False)\n",
    "def f(station):\n",
    "    output_slider_variable.value = str(station)\n",
    "\n",
    "interact(f,station=['svakov/R2','OBSUPICE/R2']);"
   ]
  },
  {
   "cell_type": "markdown",
   "metadata": {},
   "source": [
    "After the important modules are imported, you are able to set the observatory from where the data will be collected."
   ]
  },
  {
   "cell_type": "code",
   "execution_count": 22,
   "metadata": {},
   "outputs": [
    {
     "name": "stdout",
     "output_type": "stream",
     "text": [
      "Your observatory and source URL are\n",
      "svakov/R2\n",
      "http://space.astro.cz/ionozor/VLF/svakov/SVAKOV_VLF_R2/\n"
     ]
    }
   ],
   "source": [
    "if output_slider_variable.value == 'OBSUPICE/R2':\n",
    "    sourceUrl = 'http://space.astro.cz/ionozor/VLF/OBSUPICE/OBSUPICE_VLF_R2/'\n",
    "if output_slider_variable.value == 'svakov/R2':\n",
    "    sourceUrl = 'http://space.astro.cz/ionozor/VLF/svakov/SVAKOV_VLF_R2/'\n",
    "print('Your observatory and source URL are')\n",
    "print(output_slider_variable.value)\n",
    "print(sourceUrl)"
   ]
  },
  {
   "cell_type": "markdown",
   "metadata": {},
   "source": [
    "Next, your choice is converted into Python friendly format. If successfully done, you will be informed by an output printed."
   ]
  },
  {
   "cell_type": "code",
   "execution_count": 25,
   "metadata": {},
   "outputs": [
    {
     "name": "stdout",
     "output_type": "stream",
     "text": [
      "Let us start! Please set your request for the initial time to download your .fits file.\n"
     ]
    }
   ],
   "source": [
    "output_slider_variable1 = widgets.Text()\n",
    "def f(year):\n",
    "    output_slider_variable1.value = str(year)    \n",
    "interact(f,year='2017')\n",
    "output_slider_variable2 = widgets.Text()\n",
    "def f(month):\n",
    "    output_slider_variable2.value = str(month)    \n",
    "interact(f,month='04')\n",
    "output_slider_variable3 = widgets.Text()\n",
    "def f(day):\n",
    "    output_slider_variable3.value = str(day)    \n",
    "interact(f,day='02')\n",
    "output_slider_variable4 = widgets.Text()\n",
    "def f(hour):\n",
    "    output_slider_variable4.value = str(hour)    \n",
    "interact(f,hour='18')\n",
    "output_slider_variable5 = widgets.Text()\n",
    "def f(minute):\n",
    "    output_slider_variable5.value = str(minute)    \n",
    "interact(f,minute='30')\n",
    "print('Let us start! Please set your request for the initial time to download your .fits file.')"
   ]
  },
  {
   "cell_type": "markdown",
   "metadata": {},
   "source": [
    "After that, let's choice the initial time of your data collection just by typing your requests to the cells appeared. Don't worry about apostrophes or any other special characters, just insert the plain text but, please, respect the datetime format YYYY-MM-DD-HH-mm for the year, month, day, hours and minutes."
   ]
  },
  {
   "cell_type": "code",
   "execution_count": 26,
   "metadata": {},
   "outputs": [
    {
     "name": "stdout",
     "output_type": "stream",
     "text": [
      "The initial time conditions are given by the array\n",
      "2017 4 2 18 30\n"
     ]
    }
   ],
   "source": [
    "year_start = np.asarray(output_slider_variable1.value,dtype='int')\n",
    "month_start = np.asarray(output_slider_variable2.value,dtype='int')\n",
    "day_start = np.asarray(output_slider_variable3.value,dtype='int')\n",
    "hour_start = np.asarray(output_slider_variable4.value,dtype='int')\n",
    "minute_start = np.asarray(output_slider_variable5.value,dtype='int')\n",
    "print('The initial time conditions are given by the array')\n",
    "print(year_start,month_start,day_start,hour_start,minute_start)"
   ]
  },
  {
   "cell_type": "markdown",
   "metadata": {},
   "source": [
    "Then, the parameters are converted into the iPython-friendly format and, as you've got used to, you will be informed by a printed output."
   ]
  },
  {
   "cell_type": "code",
   "execution_count": 30,
   "metadata": {},
   "outputs": [
    {
     "name": "stdout",
     "output_type": "stream",
     "text": [
      "Thank you, let us carry on! Please set your request for the terminal time to download your .fits file.\n"
     ]
    }
   ],
   "source": [
    "output_slider_variable6 = widgets.Text()\n",
    "def f(year):\n",
    "    output_slider_variable6.value = str(year)    \n",
    "interact(f,year='2017')\n",
    "output_slider_variable7 = widgets.Text()\n",
    "def f(month):\n",
    "    output_slider_variable7.value = str(month)    \n",
    "interact(f,month='04')\n",
    "output_slider_variable8 = widgets.Text()\n",
    "def f(day):\n",
    "    output_slider_variable8.value = str(day)    \n",
    "interact(f,day='02')\n",
    "output_slider_variable9 = widgets.Text()\n",
    "def f(hour):\n",
    "    output_slider_variable9.value = str(hour)    \n",
    "interact(f,hour='18')\n",
    "print('Let us start! Please set your request for the initial time to download your .fits file.')\n",
    "output_slider_variable10 = widgets.Text()\n",
    "def f(minute):\n",
    "    output_slider_variable10.value = str(minute)    \n",
    "interact(f,minute='30')\n",
    "print('Thank you, let us carry on! Please set your request for the terminal time to download your .fits file.')"
   ]
  },
  {
   "cell_type": "code",
   "execution_count": 31,
   "metadata": {},
   "outputs": [
    {
     "name": "stdout",
     "output_type": "stream",
     "text": [
      "The terminal time conditions are given by the array\n",
      "2017 4 2 18 30\n"
     ]
    }
   ],
   "source": [
    "year_end = np.asarray(output_slider_variable6.value,dtype='int')\n",
    "month_end = np.asarray(output_slider_variable7.value,dtype='int')\n",
    "day_end = np.asarray(output_slider_variable8.value,dtype='int')\n",
    "hour_end = np.asarray(output_slider_variable9.value,dtype='int')\n",
    "minute_end = np.asarray(output_slider_variable10.value,dtype='int')\n",
    "print('The terminal time conditions are given by the array')\n",
    "print(year_end,month_end,day_end,hour_end,minute_end)"
   ]
  },
  {
   "cell_type": "markdown",
   "metadata": {},
   "source": [
    "In the two cells above, the same functions are run for the terminal time conditions. Please, work with the interactive input by the same way like for the initial time."
   ]
  },
  {
   "cell_type": "code",
   "execution_count": 32,
   "metadata": {},
   "outputs": [
    {
     "data": {
      "text/plain": [
       "['http:',\n",
       " '',\n",
       " 'space.astro.cz',\n",
       " 'ionozor',\n",
       " 'VLF',\n",
       " 'svakov',\n",
       " 'SVAKOV_VLF_R2',\n",
       " '']"
      ]
     },
     "execution_count": 32,
     "metadata": {},
     "output_type": "execute_result"
    }
   ],
   "source": [
    "def download_file(url):\n",
    "    local_filename = url.split('/')\n",
    "    # note the stream=True parameter\n",
    "    r = requests.get(url, stream=True)\n",
    "    with open('local_filename', 'wb') as f:\n",
    "        for chunk in r.iter_content(chunk_size=1024):\n",
    "            if chunk: # filter out keep-alive new chunks\n",
    "                f.write(chunk)\n",
    "                f.flush()\n",
    "    return local_filename\n",
    "\n",
    "download_file(sourceUrl)"
   ]
  },
  {
   "cell_type": "markdown",
   "metadata": {},
   "source": [
    "Next, the data downloading is solved, called by a print output and set up to be run. The source URL is defined above within the datetime parameters and being set for each observatory and station."
   ]
  },
  {
   "cell_type": "code",
   "execution_count": 33,
   "metadata": {},
   "outputs": [
    {
     "ename": "AttributeError",
     "evalue": "'function' object has no attribute 'urlparse'",
     "output_type": "error",
     "traceback": [
      "\u001b[0;31m---------------------------------------------------------------------------\u001b[0m",
      "\u001b[0;31mAttributeError\u001b[0m                            Traceback (most recent call last)",
      "\u001b[0;32m<ipython-input-33-2c2a872e7417>\u001b[0m in \u001b[0;36m<module>\u001b[0;34m()\u001b[0m\n\u001b[1;32m     23\u001b[0m     \u001b[0mos\u001b[0m\u001b[0;34m.\u001b[0m\u001b[0mchdir\u001b[0m\u001b[0;34m(\u001b[0m\u001b[0mwd\u001b[0m\u001b[0;34m)\u001b[0m\u001b[0;34m\u001b[0m\u001b[0m\n\u001b[1;32m     24\u001b[0m \u001b[0;34m\u001b[0m\u001b[0m\n\u001b[0;32m---> 25\u001b[0;31m \u001b[0mdownload_fits\u001b[0m\u001b[0;34m(\u001b[0m\u001b[0;34m'snapshots'\u001b[0m\u001b[0;34m,\u001b[0m \u001b[0myear_start\u001b[0m\u001b[0;34m,\u001b[0m \u001b[0mmonth_start\u001b[0m\u001b[0;34m,\u001b[0m \u001b[0mday_start\u001b[0m\u001b[0;34m,\u001b[0m \u001b[0mhour_start\u001b[0m\u001b[0;34m,\u001b[0m \u001b[0mminute_start\u001b[0m\u001b[0;34m,\u001b[0m \u001b[0myear_end\u001b[0m\u001b[0;34m,\u001b[0m \u001b[0mmonth_end\u001b[0m\u001b[0;34m,\u001b[0m \u001b[0mday_end\u001b[0m\u001b[0;34m,\u001b[0m \u001b[0mhour_end\u001b[0m\u001b[0;34m,\u001b[0m \u001b[0mminute_end\u001b[0m\u001b[0;34m)\u001b[0m\u001b[0;34m\u001b[0m\u001b[0m\n\u001b[0m\u001b[1;32m     26\u001b[0m \u001b[0mprint\u001b[0m\u001b[0;34m(\u001b[0m\u001b[0;34m'The directory and datetime are given by:'\u001b[0m\u001b[0;34m)\u001b[0m\u001b[0;34m\u001b[0m\u001b[0m\n\u001b[1;32m     27\u001b[0m \u001b[0mprint\u001b[0m\u001b[0;34m(\u001b[0m\u001b[0;34m'snapshots'\u001b[0m\u001b[0;34m,\u001b[0m \u001b[0myear_start\u001b[0m\u001b[0;34m,\u001b[0m \u001b[0mmonth_start\u001b[0m\u001b[0;34m,\u001b[0m \u001b[0mday_start\u001b[0m\u001b[0;34m,\u001b[0m \u001b[0mhour_start\u001b[0m\u001b[0;34m,\u001b[0m \u001b[0mminute_start\u001b[0m\u001b[0;34m,\u001b[0m \u001b[0myear_end\u001b[0m\u001b[0;34m,\u001b[0m \u001b[0mmonth_end\u001b[0m\u001b[0;34m,\u001b[0m \u001b[0mday_end\u001b[0m\u001b[0;34m,\u001b[0m \u001b[0mhour_end\u001b[0m\u001b[0;34m,\u001b[0m \u001b[0mminute_end\u001b[0m\u001b[0;34m)\u001b[0m\u001b[0;34m\u001b[0m\u001b[0m\n",
      "\u001b[0;32m<ipython-input-33-2c2a872e7417>\u001b[0m in \u001b[0;36mdownload_fits\u001b[0;34m(dir, year_start, month_start, day_start, hour_start, minute_start, year_end, month_end, day_end, hour_end, minute_end)\u001b[0m\n\u001b[1;32m     11\u001b[0m         \u001b[0mos\u001b[0m\u001b[0;34m.\u001b[0m\u001b[0mmakedirs\u001b[0m\u001b[0;34m(\u001b[0m\u001b[0mdir\u001b[0m\u001b[0;34m)\u001b[0m\u001b[0;34m\u001b[0m\u001b[0m\n\u001b[1;32m     12\u001b[0m     \u001b[0mos\u001b[0m\u001b[0;34m.\u001b[0m\u001b[0mchdir\u001b[0m\u001b[0;34m(\u001b[0m\u001b[0mdir\u001b[0m\u001b[0;34m)\u001b[0m\u001b[0;34m\u001b[0m\u001b[0m\n\u001b[0;32m---> 13\u001b[0;31m     \u001b[0mcon\u001b[0m \u001b[0;34m=\u001b[0m \u001b[0mbzpost\u001b[0m\u001b[0;34m.\u001b[0m\u001b[0mHTTPConnector\u001b[0m\u001b[0;34m(\u001b[0m\u001b[0msourceUrl\u001b[0m\u001b[0;34m)\u001b[0m\u001b[0;34m\u001b[0m\u001b[0m\n\u001b[0m\u001b[1;32m     14\u001b[0m     \u001b[0mcon\u001b[0m\u001b[0;34m.\u001b[0m\u001b[0mconnect\u001b[0m\u001b[0;34m(\u001b[0m\u001b[0;34m)\u001b[0m\u001b[0;34m\u001b[0m\u001b[0m\n\u001b[1;32m     15\u001b[0m \u001b[0;34m\u001b[0m\u001b[0m\n",
      "\u001b[0;32m~/repos/bolidozor/python-bolidozor-postprocessing/src/bzpost/__init__.py\u001b[0m in \u001b[0;36m__init__\u001b[0;34m(self, base_url, station_name)\u001b[0m\n\u001b[1;32m    102\u001b[0m         \u001b[0mself\u001b[0m\u001b[0;34m.\u001b[0m\u001b[0mstation_name\u001b[0m \u001b[0;34m=\u001b[0m \u001b[0mstation_name\u001b[0m\u001b[0;34m\u001b[0m\u001b[0m\n\u001b[1;32m    103\u001b[0m \u001b[0;34m\u001b[0m\u001b[0m\n\u001b[0;32m--> 104\u001b[0;31m         \u001b[0mself\u001b[0m\u001b[0;34m.\u001b[0m\u001b[0mparsed_url\u001b[0m \u001b[0;34m=\u001b[0m \u001b[0murlparse\u001b[0m\u001b[0;34m.\u001b[0m\u001b[0murlparse\u001b[0m\u001b[0;34m(\u001b[0m\u001b[0mbase_url\u001b[0m\u001b[0;34m)\u001b[0m\u001b[0;34m\u001b[0m\u001b[0m\n\u001b[0m\u001b[1;32m    105\u001b[0m \u001b[0;34m\u001b[0m\u001b[0m\n\u001b[1;32m    106\u001b[0m         \u001b[0mself\u001b[0m\u001b[0;34m.\u001b[0m\u001b[0mconnection\u001b[0m \u001b[0;34m=\u001b[0m \u001b[0;32mNone\u001b[0m\u001b[0;34m\u001b[0m\u001b[0m\n",
      "\u001b[0;31mAttributeError\u001b[0m: 'function' object has no attribute 'urlparse'"
     ]
    }
   ],
   "source": [
    "def download_fits(dir, year_start, month_start, day_start, hour_start, minute_start, year_end, month_end, day_end, hour_end, minute_end):\n",
    "    '''\n",
    "    Creates subdirectory 'snapshots' and downloads set of fits images from http://space.astro.cz/bolidozor/ from time period given in arguments. Returns nothing.\n",
    "    >>>import getboli\n",
    "    >>>getboli.download_fits('snapshots',2015,8,8,4,1,2015,8,9,6,1)\n",
    "    >>>\n",
    "    '''\n",
    "    collector = []\n",
    "    wd = os.getcwd()\n",
    "    if not os.path.exists(dir):\n",
    "        os.makedirs(dir)\n",
    "    os.chdir(dir)\n",
    "    con = bzpost.HTTPConnector(sourceUrl)\n",
    "    con.connect()\n",
    "\n",
    "    for snapshot in con.get_snapshots(datetime.datetime(year_start, month_start, day_start, hour_start, minute_start), datetime.datetime(year_end, month_end, day_end, hour_end, minute_end)):\n",
    "       collector.append(snapshot.url) \n",
    "\n",
    "    for url in collector:\n",
    "        download_file(url)\n",
    "\n",
    "    con.close()\n",
    "    os.chdir(wd)\n",
    "\t\n",
    "download_fits('snapshots', year_start, month_start, day_start, hour_start, minute_start, year_end, month_end, day_end, hour_end, minute_end)\n",
    "print('The directory and datetime are given by:')\n",
    "print('snapshots', year_start, month_start, day_start, hour_start, minute_start, year_end, month_end, day_end, hour_end, minute_end)"
   ]
  },
  {
   "cell_type": "markdown",
   "metadata": {},
   "source": [
    "Now, the datetime functions are set into a tool which covers the parameters of data downloading."
   ]
  },
  {
   "cell_type": "code",
   "execution_count": null,
   "metadata": {},
   "outputs": [],
   "source": [
    "def mkmosaic(dir, output='out.fits', axis='y', part=1, showplot=True):\n",
    "    '''\n",
    "    Concaternate specified parts of images from directory along the geometric axis. Plots the output by default. Having something else than fits files in target directory will likely result in error.\n",
    "    :dir: The directory in which fits images are situated.\n",
    "    :output: The filename of the output concaternated image.\n",
    "    :axis: The axis in cartesian coordinate system along which the pictures are added.\n",
    "    :part: What part of the fits images should be added. Default fits images have header on 0 and image part on 1. Raw files have each channel on 0, 1, 2 without a header.\n",
    "    :showplot: If set to True the output is drawn using matplotlib.\n",
    "    :return: Nothing.\n",
    "    >>>import getboli\n",
    "    >>>getboli.mkmosaic('snapshots', 'out.fits', axis='x', part='0')\n",
    "    >>>\n",
    "    TODO: .*\\.fits regex\n",
    "    '''\n",
    "    for image in os.listdir(dir):\n",
    "        hdulist = fits.open(os.path.join(dir, image))\n",
    "        if 'a' in locals():\n",
    "            if axis == 'x':\n",
    "                a = np.append(a, hdulist[part].data, axis=1)\n",
    "            if axis == 'y':\n",
    "                a = np.append(a, hdulist[part].data, axis=0)\n",
    "            if axis == 'z':\n",
    "                a = np.add(a, hdulist[part].data)\n",
    "        else:\n",
    "            a = hdulist[part].data #matrix representing the image part\n",
    "        hdulist.close()\n",
    "    hdu = fits.PrimaryHDU(a)\n",
    "    hdu.writeto(output)\n",
    "    if showplot:\n",
    "        plt.imshow(a)\n",
    "        plt.show()\n",
    "    del a #when axis were switched the variable caused skip of the else condition\n",
    "\n",
    "mkmosaic('snapshots', 'out.fits', 'y', 1, False)"
   ]
  },
  {
   "cell_type": "markdown",
   "metadata": {},
   "source": [
    "Definitely, the data are downloaded from the station's website and saved into the file of out.fits. Because of the next steps, no plot is drawn right now."
   ]
  },
  {
   "cell_type": "code",
   "execution_count": null,
   "metadata": {},
   "outputs": [],
   "source": [
    "data_list = fits.open('out.fits')\n",
    "data_list.info()\n",
    "data = data_list[0].data\n",
    "data_list.close"
   ]
  },
  {
   "cell_type": "markdown",
   "metadata": {},
   "source": [
    "The data downloaded have just been written into a 2-D numpy array and are stored witihin the data chain since this step."
   ]
  },
  {
   "cell_type": "code",
   "execution_count": null,
   "metadata": {},
   "outputs": [],
   "source": [
    "epsilon = 8.8542e-12\n",
    "e = 1.602e-19\n",
    "k_B = 1.38e-23\n",
    "gamma = 0.001\n",
    "R_inf = 3.2899e15\n",
    "c = 3e8\n",
    "b = 2.898e-3\n",
    "h = 6.626e-34\n",
    "m_el = 9.109e-31\n",
    "R = 8.314\n",
    "N_A = 6.022e23\n",
    "lambda_De = 3.10399215e-05\n",
    "I0 = -26.74\n",
    "R = 1.496e11\n",
    "i = scipy.sqrt(-1)"
   ]
  },
  {
   "cell_type": "markdown",
   "metadata": {},
   "source": [
    "In the cell above, all of the constants used for the oncoming calculations are defined."
   ]
  },
  {
   "cell_type": "code",
   "execution_count": null,
   "metadata": {},
   "outputs": [],
   "source": [
    "nu = 18000+(16+2/3)*np.arange(0,len(data))\n",
    "t = np.arange(0,len(data[0]))*3600/len(data[0])\n",
    "L = -data*1000\n",
    "n0 = -1/4*L**-4\n",
    "n0[np.isinf(n0)]=0\n",
    "E_k = -36*np.pi**-2*epsilon**-4/3*n0*e**4\n",
    "T = -E_k/k_B\n",
    "d_lambda_De = np.sqrt(np.abs((epsilon*k_B*T)/(n0*e**2)))\n",
    "p = np.diff(E_k,0)\n",
    "nu_delta = p*c/h\n",
    "omega = (nu+nu_delta.reshape((len(nu_delta[0]),len(nu)))).reshape((len(nu_delta),len(nu_delta[0])))\n",
    "n = (omega**2*m_el*epsilon)/e**2\n",
    "T_el = np.abs(T*n)\n",
    "T_el = T_el+190.05\n",
    "T_el[T_el>=10**4]=0\n",
    "n[n>9.99999*10**8]=0\n",
    "n = (n.reshape((len(nu_delta[0]),len(nu)))+(nu**2*m_el*epsilon)/e**2).reshape((len(nu_delta),len(nu_delta[0])))\n",
    "dn = np.diff(n,0)\n",
    "N_D = 4/3*np.pi*lambda_De*n\n",
    "N = (n.reshape((len(nu_delta[0]),len(nu)))-(nu**2*m_el*epsilon)/e**2).reshape((len(nu_delta),len(nu_delta[0])))\n",
    "Bl = 1+(0.01*L)\n",
    "mD = 10e-10\n",
    "h0 = np.pi*Bl/(2+2*mD)\n",
    "h0_t = (10*h0)**2/10\n",
    "f_n = dn*Bl/(N*(1-mD))\n",
    "f_n2 = f_n**2\n",
    "f_ln = np.log(1/2*f_n-((f_n2**2 - 4)**1/2))\n",
    "h_t = np.abs((Bl*f_ln + 2*np.pi*i)/(1-mD))\n",
    "H = np.nan_to_num(10*(h0_t + h_t)/3)\n",
    "H[H<59.999]=0\n",
    "Is = np.exp(L/10)\n",
    "fce = Is*R**2/I0\n",
    "alpha = scipy.arccos(fce)\n",
    "s = H*np.tan(np.abs(alpha))"
   ]
  },
  {
   "cell_type": "markdown",
   "metadata": {},
   "source": [
    "By the time the data are downloaded and the mathematical constants are set, the equations involved in the simplified model are run. The cover the basic plasma parameters and the ionospheric drift characteristics."
   ]
  },
  {
   "cell_type": "code",
   "execution_count": null,
   "metadata": {},
   "outputs": [],
   "source": [
    "n_mean = np.mean(n,axis=1)\n",
    "T_mean = np.mean(T_el,axis=1)\n",
    "H_mean = np.mean(H,axis=1)*3\n",
    "s_mean = np.mean(s,axis=1)*3\n",
    "data_mean = np.mean(data,axis=1)\n",
    "L_mean = np.mean(L,axis=1)\n",
    "f = interpol.interp1d(nu,H_mean,kind='quadratic')\n",
    "F = f(nu)\n",
    "g = interpol.interp2d(nu,data_mean,L_mean)\n",
    "G = g(nu,data_mean)"
   ]
  },
  {
   "cell_type": "markdown",
   "metadata": {},
   "source": [
    "After that, the data output is simplified from the 2-D array into a single-axis chain containing the data used for the plotting."
   ]
  },
  {
   "cell_type": "code",
   "execution_count": null,
   "metadata": {},
   "outputs": [],
   "source": [
    "fig1 = plt.figure()\n",
    "plt.imshow(data)\n",
    "plt.colorbar()\n",
    "plt.title('Spectrograph')\n",
    "plt.xlabel('Time index')\n",
    "plt.ylabel('Frequency index')\n",
    "fig2 = plt.figure()\n",
    "ax = fig2.add_subplot(111, projection='3d')\n",
    "ax.plot_surface(nu,data_mean,G)\n",
    "ax.set_xlabel('Frequency (Hz)')\n",
    "ax.set_ylabel('L (dB)')\n",
    "ax.set_zlabel('dn/dL (1/m3)')\n",
    "ax.set_title('Plasma discharges')\n",
    "fig3 = plt.figure()\n",
    "plt.plot(nu,H_mean,'go'),plt.plot(nu,F)\n",
    "plt.xlabel('Frequency (Hz)')\n",
    "plt.ylabel('Height (km)')\n",
    "plt.title('Ionogram')\n",
    "fig4 = plt.figure()\n",
    "plt.plot(n_mean,T_mean,'go')\n",
    "plt.xlabel('Electron density (1/m3)')\n",
    "plt.ylabel('Temperature (K)')\n",
    "plt.title('Charged particles')\n",
    "fig5 = plt.figure()\n",
    "plt.plot(H_mean,s_mean,'go')\n",
    "plt.xlabel('Vertical drift (km)')\n",
    "plt.ylabel('Horizontal drift (km)')\n",
    "plt.title('Ionospheric drift')"
   ]
  },
  {
   "cell_type": "markdown",
   "metadata": {},
   "source": [
    "Finally, the simplified data output is drawn using simple figures."
   ]
  },
  {
   "cell_type": "code",
   "execution_count": null,
   "metadata": {},
   "outputs": [],
   "source": [
    "plt.show()"
   ]
  },
  {
   "cell_type": "markdown",
   "metadata": {},
   "source": [
    "As the final result, the figures drawn are shown using matplotlib.\n",
    "#### Spectrograph\n",
    "    The spectrograph plot shows the measured data themselves. The radio signal intensity level is shown within a 2-D char where the x-axis shows the time index and the y-axis the frequency index of the relative intensity of radio waves monitored.\n",
    "#### Plasma discharges\n",
    "    Plasma discharges plot covers the inital step of the mathematical model. The frequency set and the relative intensity measured are compared with each other and interlanded with the basic equation of the plasma physics model \n",
    "\\begin{equation}\n",
    "\\frac{\\partial{n}}{\\partial{L}} \\approx - \\frac{1}{4}L^{-4}\n",
    "\\end{equation}\n",
    "#### Ionogram\n",
    "    The next graph is the standard ionogram, a digram which shows the relation between the frequency (electron plasma frequency and thus mean electron density, respectively) and the height where the ionospheric plasma is being located. The ionogram involves both measured daa ad interpolaton.\n",
    "#### Charged particles\n",
    "    As the result of plasma paramters modelling, a simple diagram showing the electron density and plasma temperature is given.\n",
    "#### Ionospheric drift\n",
    "    The last step of this data processing tool is the diagram which shows the ionospheric plasma distribution involving both vertical distribution and horizontal distribution; they both are able to be reached within the ionogram."
   ]
  },
  {
   "cell_type": "code",
   "execution_count": null,
   "metadata": {},
   "outputs": [],
   "source": [
    "os.remove('out.fits')\n",
    "os.remove('local_filename')"
   ]
  },
  {
   "cell_type": "markdown",
   "metadata": {},
   "source": [
    "Having satisfied the data processing, the temporary supporting files containing the data measured are deleted. If you do want to save the data processed, please use our GitHub to download an iPython Jupyter notebook which would be more suitable for you."
   ]
  }
 ],
 "metadata": {
  "kernelspec": {
   "display_name": "Python 3",
   "language": "python",
   "name": "python3"
  },
  "language_info": {
   "codemirror_mode": {
    "name": "ipython",
    "version": 3
   },
   "file_extension": ".py",
   "mimetype": "text/x-python",
   "name": "python",
   "nbconvert_exporter": "python",
   "pygments_lexer": "ipython3",
   "version": "3.5.2"
  },
  "widgets": {
   "state": {
    "0d7bd211cf974d178abf986a8e42c663": {
     "views": [
      {
       "cell_index": 5
      }
     ]
    },
    "1292b552701948589c0e2fb8ff0f19e7": {
     "views": [
      {
       "cell_index": 5
      }
     ]
    },
    "46bf15613ebb4efaa70172e3086a04a2": {
     "views": [
      {
       "cell_index": 7
      }
     ]
    },
    "48d9b7b7540d453c9d0ca7b3d4ad850b": {
     "views": [
      {
       "cell_index": 5
      }
     ]
    },
    "57a4f5d543da4b029263e8a4b12a9041": {
     "views": [
      {
       "cell_index": 5
      }
     ]
    },
    "63b917f2ac5c4bc7b6203d4897af6126": {
     "views": [
      {
       "cell_index": 7
      }
     ]
    },
    "683731b3f2a84d4380e78b516fe5d0a6": {
     "views": [
      {
       "cell_index": 5
      }
     ]
    },
    "6fe85b332f3a4ec6aee77ba4db17babf": {
     "views": [
      {
       "cell_index": 3
      }
     ]
    },
    "96d5728406784e59971ba279e0483a5f": {
     "views": [
      {
       "cell_index": 7
      }
     ]
    },
    "97e7ce7718954c228e2e58517f46d5c2": {
     "views": [
      {
       "cell_index": 5
      }
     ]
    },
    "99cdfbe8a4424551ab03583b87c7ab83": {
     "views": [
      {
       "cell_index": 5
      }
     ]
    },
    "a32737c942f44a8392be8606e83f8674": {
     "views": [
      {
       "cell_index": 5
      }
     ]
    },
    "a68f2a11b5f24b338b6bb605e275dc9d": {
     "views": [
      {
       "cell_index": 5
      }
     ]
    },
    "b2901e801c7c4317997e877f5b7e732f": {
     "views": [
      {
       "cell_index": 5
      }
     ]
    },
    "c792eebfff7246e88684a7dff65f502f": {
     "views": [
      {
       "cell_index": 5
      }
     ]
    },
    "d0668f906860423c8002655ee192d75b": {
     "views": [
      {
       "cell_index": 5
      }
     ]
    },
    "d4af57d6c5c046d0aeb4fa98335f1462": {
     "views": [
      {
       "cell_index": 7
      }
     ]
    },
    "db905d0520214eb1b39b508225eca85f": {
     "views": [
      {
       "cell_index": 5
      }
     ]
    },
    "deba6eb477c7483b88ff3907b9aee0da": {
     "views": [
      {
       "cell_index": 7
      }
     ]
    },
    "e7e47d50b0b0444fa231f624ff2b9fb9": {
     "views": [
      {
       "cell_index": 5
      }
     ]
    },
    "f6f9e850aa4442cd99dcc15820b2c93e": {
     "views": [
      {
       "cell_index": 7
      }
     ]
    },
    "f8acfa8c92e447948ec6cb3c7894f037": {
     "views": [
      {
       "cell_index": 7
      }
     ]
    }
   },
   "version": "1.2.0"
  }
 },
 "nbformat": 4,
 "nbformat_minor": 1
}
